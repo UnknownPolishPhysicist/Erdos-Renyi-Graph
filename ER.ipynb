{
 "cells": [
  {
   "cell_type": "code",
   "execution_count": 11,
   "metadata": {},
   "outputs": [],
   "source": [
    "import numpy as np\n",
    "import random"
   ]
  },
  {
   "cell_type": "code",
   "execution_count": 39,
   "metadata": {},
   "outputs": [],
   "source": [
    "'''Decides if there is a link between two nodes depending on the probability p'''\n",
    "def connect(n1,n2,p):\n",
    "    if random.uniform(0,1) <= p: \n",
    "        print(\"Connecting \", n1.index, ' and ', n2.index)\n",
    "        n1.neighbours = np.append(n1.neighbours,n2.index)\n",
    "        n2.neighbours = np.append(n2.neighbours,n1.index)\n",
    "        return True\n",
    "    else: return False\n",
    "    \n",
    "    "
   ]
  },
  {
   "cell_type": "code",
   "execution_count": 40,
   "metadata": {},
   "outputs": [],
   "source": [
    "class Node:\n",
    "    index = 0\n",
    "    spin = 0\n",
    "    neighbours = np.empty([0])\n",
    "    def __init__(self,index,spin):\n",
    "        self.index = index\n",
    "        self.spin = spin"
   ]
  },
  {
   "cell_type": "code",
   "execution_count": 117,
   "metadata": {},
   "outputs": [],
   "source": [
    "class Graph:\n",
    "    N=0 #number of nodes\n",
    "    p=0 #probability of links between nodes\n",
    "    connections = np.zeros((0,0)) #adjacency matrix\n",
    "    connections_list = [] #adjacency list\n",
    "    nodes = [] \n",
    "    def __init__(self,N,p):\n",
    "        self.N = N\n",
    "        self.p = p\n",
    "        self.connections = np.zeros((N,N))\n",
    "        self.nodes = []\n",
    "        self.connections_list = []\n",
    "        \n",
    "    '''Prints the adjacency matrix'''\n",
    "    def show_matrix(self):\n",
    "        print(self.connections)\n",
    "        \n",
    "    '''Prints the adjacency list'''\n",
    "    def show_list(self):\n",
    "        for n in self.connections_list:\n",
    "            print(n,sep='\\n')\n",
    "        \n",
    "    \n",
    "    '''Creates and adds nodes to the graph'''\n",
    "    def create_nodes(self):\n",
    "        for i in range(self.N):\n",
    "            self.nodes.append(Node(i,random.choice([-1,1]))) #random (either 1 or -1) spin value\n",
    "            \n",
    "    '''Creates connections between nodes in graph in adjacency matrix'''        \n",
    "    def create_connections(self):\n",
    "        for i in range(self.N):\n",
    "            for j in range(i+1,self.N):\n",
    "                if connect(self.nodes[i],self.nodes[j],self.p):\n",
    "                    self.connections[i][j] = 1\n",
    "                    self.connections[j][i] = 1\n",
    "                    \n",
    "    '''Creates connections between nodes in graph in adjacency list'''               \n",
    "    def create_connections_list(self):\n",
    "        for n in self.nodes:\n",
    "            self.connections_list.append(n.neighbours)\n",
    "        \n",
    "                    \n",
    "    '''Returns total magnetization of all nodes'''               \n",
    "    def magnetization(self):\n",
    "        sum = 0\n",
    "        for n in self.nodes:\n",
    "            sum += n.spin\n",
    "        return sum\n",
    "        "
   ]
  },
  {
   "cell_type": "code",
   "execution_count": 107,
   "metadata": {},
   "outputs": [],
   "source": [
    "def generate_graph(N,p):\n",
    "    g = Graph(N,p)\n",
    "    g.create_nodes()\n",
    "    g.create_connections()\n",
    "    g.create_connections_list()\n",
    "    return g"
   ]
  },
  {
   "cell_type": "code",
   "execution_count": 118,
   "metadata": {},
   "outputs": [
    {
     "name": "stdout",
     "output_type": "stream",
     "text": [
      "Connecting  1  and  4\n",
      "Connecting  1  and  5\n",
      "Connecting  2  and  3\n",
      "Connecting  2  and  4\n",
      "Connecting  3  and  4\n",
      "Connecting  3  and  5\n"
     ]
    }
   ],
   "source": [
    "g1 = generate_graph(6,0.4) #second parameter must be in range [0,1]"
   ]
  },
  {
   "cell_type": "code",
   "execution_count": 119,
   "metadata": {},
   "outputs": [
    {
     "name": "stdout",
     "output_type": "stream",
     "text": [
      "[[0. 0. 0. 0. 0. 0.]\n",
      " [0. 0. 0. 0. 1. 1.]\n",
      " [0. 0. 0. 1. 1. 0.]\n",
      " [0. 0. 1. 0. 1. 1.]\n",
      " [0. 1. 1. 1. 0. 0.]\n",
      " [0. 1. 0. 1. 0. 0.]]\n"
     ]
    }
   ],
   "source": [
    "g1.show_matrix()"
   ]
  },
  {
   "cell_type": "code",
   "execution_count": 120,
   "metadata": {},
   "outputs": [
    {
     "name": "stdout",
     "output_type": "stream",
     "text": [
      "[]\n",
      "[4. 5.]\n",
      "[3. 4.]\n",
      "[2. 4. 5.]\n",
      "[1. 2. 3.]\n",
      "[1. 3.]\n"
     ]
    }
   ],
   "source": [
    "g1.show_list()"
   ]
  },
  {
   "cell_type": "code",
   "execution_count": 121,
   "metadata": {},
   "outputs": [
    {
     "name": "stdout",
     "output_type": "stream",
     "text": [
      "[]\n",
      "[4. 5.]\n",
      "[3. 4.]\n",
      "[2. 4. 5.]\n",
      "[1. 2. 3.]\n",
      "[1. 3.]\n"
     ]
    }
   ],
   "source": [
    "for i in range(len(g1.nodes)):\n",
    "    print(g1.nodes[i].neighbours)"
   ]
  },
  {
   "cell_type": "code",
   "execution_count": 66,
   "metadata": {},
   "outputs": [
    {
     "data": {
      "text/plain": [
       "-18"
      ]
     },
     "execution_count": 66,
     "metadata": {},
     "output_type": "execute_result"
    }
   ],
   "source": [
    "g1.magnetization()"
   ]
  },
  {
   "cell_type": "code",
   "execution_count": null,
   "metadata": {},
   "outputs": [],
   "source": []
  },
  {
   "cell_type": "code",
   "execution_count": null,
   "metadata": {},
   "outputs": [],
   "source": []
  }
 ],
 "metadata": {
  "kernelspec": {
   "display_name": "Python 3",
   "language": "python",
   "name": "python3"
  },
  "language_info": {
   "codemirror_mode": {
    "name": "ipython",
    "version": 3
   },
   "file_extension": ".py",
   "mimetype": "text/x-python",
   "name": "python",
   "nbconvert_exporter": "python",
   "pygments_lexer": "ipython3",
   "version": "3.7.3"
  }
 },
 "nbformat": 4,
 "nbformat_minor": 4
}
